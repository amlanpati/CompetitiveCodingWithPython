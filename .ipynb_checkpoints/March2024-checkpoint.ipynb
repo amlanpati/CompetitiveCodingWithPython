{
 "cells": [
  {
   "cell_type": "markdown",
   "id": "853bc863",
   "metadata": {},
   "source": [
    "## Valid Parenthesis\n",
    "Given a string s containing just the characters '(', ')', '{', '}', '[' and ']', determine if the input string is valid.\n",
    "\n",
    "An input string is valid if:\n",
    "\n",
    "Open brackets must be closed by the same type of brackets.\n",
    "Open brackets must be closed in the correct order.\n",
    "Every close bracket has a corresponding open bracket of the same type.\n",
    " \n",
    "\n",
    "Example 1:\n",
    "\n",
    "Input: s = \"()\"\n",
    "Output: true\n",
    "Example 2:\n",
    "\n",
    "Input: s = \"()[]{}\"\n",
    "Output: true\n",
    "Example 3:\n",
    "\n",
    "Input: s = \"(]\"\n",
    "Output: false\n",
    " \n",
    "\n",
    "Constraints:\n",
    "\n",
    "1 <= s.length <= 104\n",
    "s consists of parentheses only '()[]{}'."
   ]
  },
  {
   "cell_type": "code",
   "execution_count": 1,
   "id": "319a2c1b",
   "metadata": {},
   "outputs": [],
   "source": [
    "class Solution:\n",
    "    def isValid(self, s):\n",
    "        stack = []    #Create an empty stack to store opening brackets.\n",
    "        for c in s:\n",
    "            if c in '({[':    #If character is an opening bracket...\n",
    "                stack.append(c)    #then push it into the stack.\n",
    "            else:    #If character is a closing bracket...\n",
    "                if not stack or \\\n",
    "                (c == ')' and stack[-1] != '(') or \\\n",
    "                (c == '}' and stack[-1] != '{') or \\\n",
    "                (c == ']' and stack[-1] != '['):\n",
    "                    return False    #String is empty or is invalid.\n",
    "                stack.pop()    #pop the corresponding opening bracket from the stack.\n",
    "        return not stack    #Stack is empty=> All brackets matched correctly=> return True"
   ]
  },
  {
   "cell_type": "code",
   "execution_count": 2,
   "id": "53e2ffd4",
   "metadata": {},
   "outputs": [
    {
     "name": "stdout",
     "output_type": "stream",
     "text": [
      "True\n",
      "False\n",
      "False\n",
      "False\n",
      "False\n",
      "False\n",
      "True\n",
      "False\n",
      "True\n",
      "True\n"
     ]
    }
   ],
   "source": [
    "obj = Solution()\n",
    "print(obj.isValid('()'))\n",
    "print(obj.isValid('(('))\n",
    "print(obj.isValid(']]'))\n",
    "print(obj.isValid('(]'))\n",
    "print(obj.isValid('}{}'))\n",
    "print(obj.isValid('){'))\n",
    "print(obj.isValid('()[]{}'))\n",
    "print(obj.isValid('())[{]'))\n",
    "print(obj.isValid('({[]})'))\n",
    "print(obj.isValid('[(){}]'))"
   ]
  },
  {
   "cell_type": "markdown",
   "id": "58969a55",
   "metadata": {},
   "source": [
    "## Count Elements With Maximum Frequency\n",
    "You are given an array nums consisting of positive integers.\n",
    "\n",
    "Return the total frequencies of elements in nums such that those elements all have the maximum frequency.\n",
    "\n",
    "The frequency of an element is the number of occurrences of that element in the array.\n",
    "\n",
    " \n",
    "\n",
    "Example 1:\n",
    "\n",
    "Input: nums = [1,2,2,3,1,4]\n",
    "Output: 4\n",
    "Explanation: The elements 1 and 2 have a frequency of 2 which is the maximum frequency in the array.\n",
    "So the number of elements in the array with maximum frequency is 4.\n",
    "Example 2:\n",
    "\n",
    "Input: nums = [1,2,3,4,5]\n",
    "Output: 5\n",
    "Explanation: All elements of the array have a frequency of 1 which is the maximum.\n",
    "So the number of elements in the array with maximum frequency is 5.\n",
    " \n",
    "\n",
    "Constraints:\n",
    "\n",
    "1 <= nums.length <= 100\n",
    "1 <= nums[i] <= 100"
   ]
  },
  {
   "cell_type": "code",
   "execution_count": 3,
   "id": "2da78c8d",
   "metadata": {},
   "outputs": [],
   "source": [
    "from collections import Counter\n",
    "class Solution(object):\n",
    "    def maxFrequencyElements(self, nums):\n",
    "        freq_counter = Counter(nums)    #Count frequency of each element in nums using a Counter.     \n",
    "        max_frequency = max(freq_counter.values())    #Find maximum frequency among all elements.\n",
    "        max_freq_elements = [num for num, freq in freq_counter.items() if freq == max_frequency]    #Elements with max frequency.\n",
    "        total_frequency = max_frequency * len(max_freq_elements)    # Calculate total frequency of elements with max frequency.\n",
    "        return total_frequency"
   ]
  },
  {
   "cell_type": "code",
   "execution_count": 4,
   "id": "89622a54",
   "metadata": {},
   "outputs": [
    {
     "name": "stdout",
     "output_type": "stream",
     "text": [
      "4\n",
      "5\n",
      "3\n",
      "2\n",
      "2\n"
     ]
    }
   ],
   "source": [
    "obj = Solution()\n",
    "print(obj.maxFrequencyElements([1, 2, 2, 3, 1, 4]))\n",
    "print(obj.maxFrequencyElements([1, 2, 3, 4, 5]))\n",
    "print(obj.maxFrequencyElements([1, 2, 2, 2, 3]))\n",
    "print(obj.maxFrequencyElements([5, 6, 4, 3, 3, 1]))\n",
    "print(obj.maxFrequencyElements([5, 8, 8, 9]))"
   ]
  },
  {
   "cell_type": "markdown",
   "id": "84e9ea64",
   "metadata": {},
   "source": [
    "## Minimum Common Value\n",
    "Given two integer arrays nums1 and nums2, sorted in non-decreasing order, return the minimum integer common to both arrays. If there is no common integer amongst nums1 and nums2, return -1.\n",
    "\n",
    "Note that an integer is said to be common to nums1 and nums2 if both arrays have at least one occurrence of that integer.\n",
    "\n",
    " \n",
    "\n",
    "Example 1:\n",
    "\n",
    "Input: nums1 = [1,2,3], nums2 = [2,4]\n",
    "Output: 2\n",
    "Explanation: The smallest element common to both arrays is 2, so we return 2.\n",
    "Example 2:\n",
    "\n",
    "Input: nums1 = [1,2,3,6], nums2 = [2,3,4,5]\n",
    "Output: 2\n",
    "Explanation: There are two common elements in the array 2 and 3 out of which 2 is the smallest, so 2 is returned.\n",
    " \n",
    "\n",
    "Constraints:\n",
    "\n",
    "1 <= nums1.length, nums2.length <= 105\n",
    "1 <= nums1[i], nums2[j] <= 109\n",
    "Both nums1 and nums2 are sorted in non-decreasing order."
   ]
  },
  {
   "cell_type": "code",
   "execution_count": 5,
   "id": "88754d43",
   "metadata": {},
   "outputs": [],
   "source": [
    "class Solution(object):\n",
    "    def getCommon(self, nums1, nums2):\n",
    "        i = 0\n",
    "        j = 0\n",
    "        common = float('inf')\n",
    "        while i < len(nums1) and j < len(nums2):\n",
    "            if nums1[i] == nums2[j]:    #If elements at current indices are equal...\n",
    "                common = nums1[i]    #update common element.\n",
    "                break\n",
    "            elif nums1[i] > nums2[j]:    #If element in nums1 is greater...\n",
    "                j += 1    #move pointer j to the right in nums2.\n",
    "            else:    #If element in nums2 is greater...\n",
    "                i += 1    #move pointer i to the right in nums1.\n",
    "        return common if common != float('inf') else -1    #Return common element or -1."
   ]
  },
  {
   "cell_type": "code",
   "execution_count": 6,
   "id": "3487a3c7",
   "metadata": {},
   "outputs": [
    {
     "name": "stdout",
     "output_type": "stream",
     "text": [
      "2\n",
      "2\n",
      "-1\n",
      "34\n",
      "0\n"
     ]
    }
   ],
   "source": [
    "obj = Solution()\n",
    "print(obj.getCommon([1, 2, 3], [2, 4]))\n",
    "print(obj.getCommon([1, 2, 3, 6], [2, 3, 4, 5]))\n",
    "print(obj.getCommon([14, 59], [23, 64]))\n",
    "print(obj.getCommon([-23, 0, 34], [34, 49]))\n",
    "print(obj.getCommon([-1, -2, 0, 1, 2], [0, 1, 2]))"
   ]
  },
  {
   "cell_type": "markdown",
   "id": "a3adde4c",
   "metadata": {},
   "source": [
    "## Intersection of Two Arrays\n",
    "Given two integer arrays nums1 and nums2, return an array of their intersection. Each element in the result must be unique and you may return the result in any order.\n",
    "\n",
    " \n",
    "\n",
    "Example 1:\n",
    "\n",
    "Input: nums1 = [1,2,2,1], nums2 = [2,2]\n",
    "Output: [2]\n",
    "Example 2:\n",
    "\n",
    "Input: nums1 = [4,9,5], nums2 = [9,4,9,8,4]\n",
    "Output: [9,4]\n",
    "Explanation: [4,9] is also accepted.\n",
    " \n",
    "\n",
    "Constraints:\n",
    "\n",
    "1 <= nums1.length, nums2.length <= 1000\n",
    "0 <= nums1[i], nums2[i] <= 1000"
   ]
  },
  {
   "cell_type": "code",
   "execution_count": 7,
   "id": "3bc27c54",
   "metadata": {},
   "outputs": [],
   "source": [
    "class Solution(object):\n",
    "    def intersection(self, nums1, nums2):\n",
    "        #Convert nums1 and nums2 to sets for efficient lookups.\n",
    "        set1 = set(nums1)\n",
    "        set2 = set(nums2)\n",
    "        return list(set1.intersection(set2)) #Use set intersection operation to find elements present in both sets."
   ]
  },
  {
   "cell_type": "code",
   "execution_count": 8,
   "id": "69b75491",
   "metadata": {},
   "outputs": [
    {
     "name": "stdout",
     "output_type": "stream",
     "text": [
      "[2, 3]\n",
      "[2]\n",
      "[9, 4]\n",
      "[]\n",
      "[73]\n"
     ]
    }
   ],
   "source": [
    "obj = Solution()\n",
    "print(obj.intersection([1, 2, 3], [2, 3]))\n",
    "print(obj.intersection([1, 2, 2, 1], [2, 2]))\n",
    "print(obj.intersection([4, 9, 5], [9, 4, 9, 8, 4]))\n",
    "print(obj.intersection([1, 2, 3], [4, 5]))\n",
    "print(obj.intersection([11, 52, 73], [522, 73]))"
   ]
  },
  {
   "cell_type": "markdown",
   "id": "edb29e38",
   "metadata": {},
   "source": [
    "## Custom Sort String\n",
    "You are given two strings order and s. All the characters of order are unique and were sorted in some custom order previously.\n",
    "\n",
    "Permute the characters of s so that they match the order that order was sorted. More specifically, if a character x occurs before a character y in order, then x should occur before y in the permuted string.\n",
    "\n",
    "Return any permutation of s that satisfies this property.\n",
    "\n",
    " \n",
    "\n",
    "Example 1:\n",
    "\n",
    "Input:  order = \"cba\", s = \"abcd\" \n",
    "\n",
    "Output:  \"cbad\" \n",
    "\n",
    "Explanation: \"a\", \"b\", \"c\" appear in order, so the order of \"a\", \"b\", \"c\" should be \"c\", \"b\", and \"a\".\n",
    "\n",
    "Since \"d\" does not appear in order, it can be at any position in the returned string. \"dcba\", \"cdba\", \"cbda\" are also valid outputs.\n",
    "\n",
    "Example 2:\n",
    "\n",
    "Input:  order = \"bcafg\", s = \"abcd\" \n",
    "\n",
    "Output:  \"bcad\" \n",
    "\n",
    "Explanation: The characters \"b\", \"c\", and \"a\" from order dictate the order for the characters in s. The character \"d\" in s does not appear in order, so its position is flexible.\n",
    "\n",
    "Following the order of appearance in order, \"b\", \"c\", and \"a\" from s should be arranged as \"b\", \"c\", \"a\". \"d\" can be placed at any position since it's not in order. The output \"bcad\" correctly follows this rule. Other arrangements like \"bacd\" or \"bcda\" would also be valid, as long as \"b\", \"c\", \"a\" maintain their order.\n",
    "\n",
    " \n",
    "\n",
    "Constraints:\n",
    "\n",
    "1 <= order.length <= 26\n",
    "1 <= s.length <= 200\n",
    "order and s consist of lowercase English letters.\n",
    "All the characters of order are unique."
   ]
  },
  {
   "cell_type": "code",
   "execution_count": 9,
   "id": "046820a8",
   "metadata": {},
   "outputs": [],
   "source": [
    "class Solution(object):\n",
    "    def customSortString(self, order, s):\n",
    "        char_count = {}\n",
    "        for char in s:\n",
    "            char_count[char] = char_count.get(char, 0) + 1    #Count character frequency.\n",
    "        #Build result string based on order.\n",
    "        result = \"\"\n",
    "        for char in order:\n",
    "            if char in char_count:\n",
    "                result += char * char_count[char]    #Append character based on its count.\n",
    "                del char_count[char]    #Remove used character from count.\n",
    "        #Append remaining characters not in order.\n",
    "        for char, count in char_count.items():    #Iterate using items() to avoid unpacking errors.\n",
    "            result += char * count\n",
    "        return result"
   ]
  },
  {
   "cell_type": "code",
   "execution_count": 10,
   "id": "4e5ada00",
   "metadata": {},
   "outputs": [
    {
     "name": "stdout",
     "output_type": "stream",
     "text": [
      "cbad\n",
      "bcad\n",
      "amlptiqweryuoskbn\n",
      "pthonnwregazcb\n",
      "nicejrsdq\n"
     ]
    }
   ],
   "source": [
    "obj = Solution()\n",
    "print(obj.customSortString(\"cba\", \"abcd\"))\n",
    "print(obj.customSortString(\"bcafg\", \"abcd\"))\n",
    "print(obj.customSortString(\"amlpti\", \"qwertyuiopasklbnm\"))\n",
    "print(obj.customSortString(\"python\", \"woreptgnazcnbh\"))\n",
    "print(obj.customSortString(\"nice\", \"jirscdnqe\"))"
   ]
  },
  {
   "cell_type": "markdown",
   "id": "954eca25",
   "metadata": {},
   "source": [
    "## Remove Zero Sum Consecutive Nodes from Linked List\n",
    "Given the head of a linked list, we repeatedly delete consecutive sequences of nodes that sum to 0 until there are no such sequences.\n",
    "\n",
    "After doing so, return the head of the final linked list.  You may return any such answer.\n",
    "\n",
    " \n",
    "\n",
    "(Note that in the examples below, all sequences are serializations of ListNode objects.)\n",
    "\n",
    "Example 1:\n",
    "\n",
    "Input: head = [1,2,-3,3,1]\n",
    "Output: [3,1]\n",
    "Note: The answer [1,2,1] would also be accepted.\n",
    "Example 2:\n",
    "\n",
    "Input: head = [1,2,3,-3,4]\n",
    "Output: [1,2,4]\n",
    "Example 3:\n",
    "\n",
    "Input: head = [1,2,3,-3,-2]\n",
    "Output: [1]\n",
    " \n",
    "\n",
    "Constraints:\n",
    "\n",
    "The given linked list will contain between 1 and 1000 nodes.\n",
    "Each node in the linked list has -1000 <= node.val <= 1000."
   ]
  },
  {
   "cell_type": "code",
   "execution_count": 11,
   "id": "470a34a0",
   "metadata": {},
   "outputs": [],
   "source": [
    "class ListNode(object):    #Represents a node in a linked list.\n",
    "    def __init__(self, val=0, next=None):\n",
    "        self.val = val\n",
    "        self.next = next\n",
    "class Solution(object):\n",
    "     def removeZeroSumSublists(self, head):    #Removes zero-sum consecutive sequences from a linked list.\n",
    "        dummy = ListNode(0)    #Create a dummy node with value 0 for easier handling of head.\n",
    "        dummy.next = head\n",
    "        prefix_sum = 0\n",
    "        prefix_sums = {0: dummy}    #Dictionary to store prefix sums as keys and corresponding nodes as values.\n",
    "        current = head\n",
    "\n",
    "        while current:\n",
    "            prefix_sum += current.val\n",
    "            if prefix_sum in prefix_sums:    #Check if the prefix sum exists in the dictionary.\n",
    "                #If found, it means there's a zero-sum sequence starting from the node stored in prefix_sums[prefix_sum].\n",
    "                to_delete = prefix_sums[prefix_sum].next\n",
    "                temp_sum = prefix_sum + to_delete.val\n",
    "                #Inner loop to iterate through the zero-sum sequence and remove nodes.\n",
    "                while to_delete != current:\n",
    "                    del prefix_sums[temp_sum]\n",
    "                    to_delete = to_delete.next\n",
    "                    temp_sum += to_delete.val\n",
    "                prefix_sums[prefix_sum].next = current.next\n",
    "            else:    #If prefix sum not found, add it to the dictionary for future checks.\n",
    "                prefix_sums[prefix_sum] = current\n",
    "            current = current.next\n",
    "\n",
    "        return dummy.next"
   ]
  },
  {
   "cell_type": "code",
   "execution_count": 12,
   "id": "be3014f1",
   "metadata": {},
   "outputs": [
    {
     "name": "stdout",
     "output_type": "stream",
     "text": [
      "The input linked lists are: \n",
      "1 -> 2 -> -3 -> 3 -> 1 -> None\n",
      "1 -> 2 -> 3 -> -3 -> 4 -> None\n",
      "1 -> 2 -> 3 -> -3 -> -2 -> None\n",
      "1 -> 2 -> -3 -> None\n",
      "-3 -> 3 -> 1 -> None\n",
      "The output linked lists are: \n",
      "3 -> 1 \n",
      "1 -> 2 -> 4 \n",
      "1 \n",
      "None\n",
      "1 \n"
     ]
    }
   ],
   "source": [
    "class ListNode:\n",
    "    def __init__(self, val=0, next=None):\n",
    "        self.val = val\n",
    "        self.next = next\n",
    "    def __str__(self):\n",
    "        \"\"\"\n",
    "        Custom string representation of a ListNode object.\n",
    "        \"\"\"\n",
    "        curr = self\n",
    "        result = \"\"\n",
    "        while curr:\n",
    "            result += str(curr.val) + \" -> \"\n",
    "            curr = curr.next\n",
    "        return result[:-3]  # Remove the extra \" -> \" at the end\n",
    "\n",
    "def create_linked_list(nums):\n",
    "    \"\"\"\n",
    "    Creates a linked list from a list of integers.\n",
    "    \"\"\"\n",
    "    head = None\n",
    "    tail = None\n",
    "    for num in nums:\n",
    "        new_node = ListNode(num)\n",
    "        if not head:\n",
    "            head = tail = new_node\n",
    "        else:\n",
    "            tail.next = new_node\n",
    "            tail = new_node\n",
    "    return head\n",
    "\n",
    "# Create linked lists from your input lists\n",
    "list1 = create_linked_list([1, 2, -3, 3, 1])\n",
    "list2 = create_linked_list([1, 2, 3, -3, 4])\n",
    "list3 = create_linked_list([1, 2, 3, -3, -2])\n",
    "list4 = create_linked_list([1,2,-3])\n",
    "list5 = create_linked_list([-3,3,1])\n",
    "\n",
    "def print_linked_list(head):\n",
    "    \"\"\"\n",
    "    Prints the values of nodes in a linked list.\n",
    "    \"\"\"\n",
    "    curr = head\n",
    "    while curr:\n",
    "        print(curr.val, end=\" -> \")  # Print value with an arrow for better visualization\n",
    "        curr = curr.next\n",
    "    print(\"None\")  # Print \"None\" to indicate the end of the list\n",
    "\n",
    "print(\"The input linked lists are: \")\n",
    "# Print the linked lists\n",
    "print_linked_list(list1)\n",
    "print_linked_list(list2)\n",
    "print_linked_list(list3)\n",
    "print_linked_list(list4)\n",
    "print_linked_list(list5)\n",
    "\n",
    "print(\"The output linked lists are: \")\n",
    "# Call the function with the linked lists\n",
    "obj = Solution()\n",
    "print(obj.removeZeroSumSublists(list1))\n",
    "print(obj.removeZeroSumSublists(list2))\n",
    "print(obj.removeZeroSumSublists(list3))\n",
    "print(obj.removeZeroSumSublists(list4))\n",
    "print(obj.removeZeroSumSublists(list5))"
   ]
  },
  {
   "cell_type": "markdown",
   "id": "fe335299",
   "metadata": {},
   "source": [
    "## Find the Pivot Integer\n",
    "Given a positive integer n, find the pivot integer x such that:\n",
    "\n",
    "The sum of all elements between 1 and x inclusively equals the sum of all elements between x and n inclusively.\n",
    "Return the pivot integer x. If no such integer exists, return -1. It is guaranteed that there will be at most one pivot index for the given input.\n",
    "\n",
    " \n",
    "\n",
    "Example 1:\n",
    "\n",
    "Input: n = 8\n",
    "Output: 6\n",
    "Explanation: 6 is the pivot integer since: 1 + 2 + 3 + 4 + 5 + 6 = 6 + 7 + 8 = 21.\n",
    "Example 2:\n",
    "\n",
    "Input: n = 1\n",
    "Output: 1\n",
    "Explanation: 1 is the pivot integer since: 1 = 1.\n",
    "Example 3:\n",
    "\n",
    "Input: n = 4\n",
    "Output: -1\n",
    "Explanation: It can be proved that no such integer exist.\n",
    " m\n",
    "\n",
    "Constraints:\n",
    "\n",
    "1 <= n <= 1000"
   ]
  },
  {
   "cell_type": "code",
   "execution_count": 13,
   "id": "92fc8f7c",
   "metadata": {},
   "outputs": [],
   "source": [
    "class Solution(object):\n",
    "    def pivotInteger(self, n):\n",
    "        x = (n * (n + 1) / 2) ** 0.5\n",
    "        if x % 1 != 0:\n",
    "            return -1\n",
    "        else:\n",
    "            return int(x)"
   ]
  },
  {
   "cell_type": "code",
   "execution_count": 14,
   "id": "757887c4",
   "metadata": {},
   "outputs": [
    {
     "name": "stdout",
     "output_type": "stream",
     "text": [
      "1\n",
      "6\n",
      "-1\n"
     ]
    }
   ],
   "source": [
    "obj = Solution()\n",
    "print(obj.pivotInteger(1))\n",
    "print(obj.pivotInteger(8))\n",
    "print(obj.pivotInteger(4))"
   ]
  },
  {
   "cell_type": "code",
   "execution_count": null,
   "id": "07411ef8",
   "metadata": {},
   "outputs": [],
   "source": []
  }
 ],
 "metadata": {
  "kernelspec": {
   "display_name": "Python 3 (ipykernel)",
   "language": "python",
   "name": "python3"
  },
  "language_info": {
   "codemirror_mode": {
    "name": "ipython",
    "version": 3
   },
   "file_extension": ".py",
   "mimetype": "text/x-python",
   "name": "python",
   "nbconvert_exporter": "python",
   "pygments_lexer": "ipython3",
   "version": "3.11.3"
  }
 },
 "nbformat": 4,
 "nbformat_minor": 5
}
