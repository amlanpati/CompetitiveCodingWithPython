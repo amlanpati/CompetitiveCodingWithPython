{
 "cells": [
  {
   "cell_type": "markdown",
   "id": "1282634e",
   "metadata": {},
   "source": [
    "## 1. Remove Element\n",
    "Given an integer array nums and an integer val, remove all occurrences of val in nums in-place. The order of the elements may be changed. Then return the number of elements in nums which are not equal to val.\n",
    "\n",
    "Consider the number of elements in nums which are not equal to val be k, to get accepted, you need to do the following things:\n",
    "\n",
    "Change the array nums such that the first k elements of nums contain the elements which are not equal to val. The remaining elements of nums are not important as well as the size of nums.\n",
    "Return k.\n",
    "Custom Judge:\n",
    "\n",
    "The judge will test your solution with the following code:\n",
    "\n",
    "int[] nums = [...]; // Input array\n",
    "int val = ...; // Value to remove\n",
    "int[] expectedNums = [...]; // The expected answer with correct length.\n",
    "                            // It is sorted with no values equaling val.\n",
    "\n",
    "int k = removeElement(nums, val); // Calls your implementation\n",
    "\n",
    "assert k == expectedNums.length;\n",
    "sort(nums, 0, k); // Sort the first k elements of nums\n",
    "for (int i = 0; i < actualLength; i++) {\n",
    "    assert nums[i] == expectedNums[i];\n",
    "}\n",
    "If all assertions pass, then your solution will be accepted.\n",
    "\n",
    " \n",
    "\n",
    "Example 1:\n",
    "\n",
    "Input: nums = [3,2,2,3], val = 3\n",
    "Output: 2, nums = [2,2,_,_]\n",
    "Explanation: Your function should return k = 2, with the first two elements of nums being 2.\n",
    "It does not matter what you leave beyond the returned k (hence they are underscores).\n",
    "Example 2:\n",
    "\n",
    "Input: nums = [0,1,2,2,3,0,4,2], val = 2\n",
    "Output: 5, nums = [0,1,4,0,3,_,_,_]\n",
    "Explanation: Your function should return k = 5, with the first five elements of nums containing 0, 0, 1, 3, and 4.\n",
    "Note that the five elements can be returned in any order.\n",
    "It does not matter what you leave beyond the returned k (hence they are underscores).\n",
    " \n",
    "\n",
    "Constraints:\n",
    "\n",
    "0 <= nums.length <= 100\n",
    "0 <= nums[i] <= 50\n",
    "0 <= val <= 100"
   ]
  },
  {
   "cell_type": "code",
   "execution_count": 1,
   "id": "70dfcd66",
   "metadata": {},
   "outputs": [],
   "source": [
    "class Solution1(object):\n",
    "    def removeElement(self, nums, val):\n",
    "        \"\"\"\n",
    "        :type nums: List[int]\n",
    "        :type val: int\n",
    "        :rtype: int\n",
    "        \"\"\"\n",
    "        index = 0\n",
    "        for i in range(len(nums)):\n",
    "            if nums[i] != val:\n",
    "                nums[index] = nums[i]\n",
    "                index+=1\n",
    "        return index    #Return number of non-target elements."
   ]
  },
  {
   "cell_type": "code",
   "execution_count": 2,
   "id": "235951e3",
   "metadata": {},
   "outputs": [
    {
     "name": "stdout",
     "output_type": "stream",
     "text": [
      "2\n",
      "5\n",
      "0\n",
      "1\n",
      "4\n"
     ]
    }
   ],
   "source": [
    "obj1 = Solution1()\n",
    "print(obj1.removeElement([3, 2, 2, 3], 3))\n",
    "print(obj1.removeElement([0,1,2,2,3,0,4,2], 2))\n",
    "print(obj1.removeElement([3, 3], 3))\n",
    "print(obj1.removeElement([1, 1, 2], 1))\n",
    "print(obj1.removeElement([1, 2, 3, 4], 5))"
   ]
  },
  {
   "cell_type": "markdown",
   "id": "efd1c11e",
   "metadata": {},
   "source": [
    "# 2. Linear Search"
   ]
  },
  {
   "cell_type": "code",
   "execution_count": 3,
   "id": "f9828a51",
   "metadata": {},
   "outputs": [],
   "source": [
    "class Solution2:\n",
    "    def linearSearch(self, arr, val):\n",
    "        for i in range(len(arr)):\n",
    "            if arr[i] == val:\n",
    "                return i\n",
    "        return -1"
   ]
  },
  {
   "cell_type": "code",
   "execution_count": 4,
   "id": "e4d0fa98",
   "metadata": {},
   "outputs": [
    {
     "name": "stdout",
     "output_type": "stream",
     "text": [
      "1\n",
      "2\n",
      "3\n",
      "-1\n",
      "-1\n"
     ]
    }
   ],
   "source": [
    "obj2 = Solution2()\n",
    "print(obj2.linearSearch([11, 22, 33, 44, 55], 22))\n",
    "print(obj2.linearSearch([45, 32, 14], 14))\n",
    "print(obj2.linearSearch([3, 2, 8, -1, -84], -1))\n",
    "print(obj2.linearSearch([62, 36, 92, 2], 3))\n",
    "print(obj2.linearSearch([], 14))"
   ]
  },
  {
   "cell_type": "markdown",
   "id": "a7ffa8f8",
   "metadata": {},
   "source": [
    "# 3. Binary Search"
   ]
  },
  {
   "cell_type": "code",
   "execution_count": 5,
   "id": "0fe15e1b",
   "metadata": {},
   "outputs": [],
   "source": [
    "class Solution3:\n",
    "    def binarySearch(self, arr, val):\n",
    "        left = 0\n",
    "        right = len(arr) - 1\n",
    "        while left <= right:\n",
    "            mid = left + (right - left) // 2\n",
    "            if arr[mid] == val:\n",
    "                return mid\n",
    "            elif arr[mid] < val:    #Array is in ascending order.\n",
    "                left = mid + 1\n",
    "            else:\n",
    "                right = mid - 1\n",
    "        return -1"
   ]
  },
  {
   "cell_type": "code",
   "execution_count": 6,
   "id": "627117b6",
   "metadata": {},
   "outputs": [
    {
     "name": "stdout",
     "output_type": "stream",
     "text": [
      "2\n",
      "0\n",
      "-1\n"
     ]
    }
   ],
   "source": [
    "obj3 = Solution3()\n",
    "print(obj3.binarySearch([1, 2, 3], 3))\n",
    "print(obj3.binarySearch([-4, -2, 0, 2], -4))\n",
    "print(obj3.binarySearch([2, 7], 5))"
   ]
  },
  {
   "cell_type": "markdown",
   "id": "90741177",
   "metadata": {},
   "source": [
    "# 4. Order Agnostic Binary Search"
   ]
  },
  {
   "cell_type": "code",
   "execution_count": 7,
   "id": "c92a7a7e",
   "metadata": {},
   "outputs": [],
   "source": [
    "class Solution4:\n",
    "    def orderAgnosticBinarySearch(self, arr, val):\n",
    "        left = 0\n",
    "        right = len(arr) - 1\n",
    "        isAsc = arr[left] < arr[right]\n",
    "        while left <= right:\n",
    "            mid = left + (right - left) // 2\n",
    "            if arr[mid] == val:\n",
    "                return mid\n",
    "            else:\n",
    "                if isAsc:\n",
    "                    if arr[mid] < val:\n",
    "                        left = mid + 1\n",
    "                    else:\n",
    "                        right = mid - 1\n",
    "                else:\n",
    "                    if arr[mid] < val:\n",
    "                        right = mid - 1\n",
    "                    else:\n",
    "                        left = mid + 1\n",
    "        return -1"
   ]
  },
  {
   "cell_type": "code",
   "execution_count": 8,
   "id": "85c2623a",
   "metadata": {},
   "outputs": [
    {
     "name": "stdout",
     "output_type": "stream",
     "text": [
      "1\n",
      "2\n",
      "-1\n"
     ]
    }
   ],
   "source": [
    "obj4 = Solution4()\n",
    "print(obj4.orderAgnosticBinarySearch([7, 9, 13, 18], 9))\n",
    "print(obj4.orderAgnosticBinarySearch([89, 65, 42, 31], 42))\n",
    "print(obj4.orderAgnosticBinarySearch([-4, 2, 1, 5, 7], 3))"
   ]
  },
  {
   "cell_type": "markdown",
   "id": "0eeb77e3",
   "metadata": {},
   "source": [
    "# 5. Ceiling of a Number in Sorted Array"
   ]
  },
  {
   "cell_type": "code",
   "execution_count": 9,
   "id": "34b518d7",
   "metadata": {},
   "outputs": [],
   "source": [
    "class Solution5:\n",
    "    def ceiling(self, arr, target):\n",
    "        start = 0\n",
    "        end = len(arr) - 1\n",
    "        while start <= end:\n",
    "            if target > arr[len(arr) - 1]:\n",
    "                return -1\n",
    "            mid = start + (end - start) // 2\n",
    "            if arr[mid] == target:\n",
    "                return arr[mid]\n",
    "            elif arr[mid] > target:    #Array is in ascending order.\n",
    "                end = mid - 1\n",
    "            else:\n",
    "                start = mid + 1\n",
    "        return arr[start]"
   ]
  },
  {
   "cell_type": "code",
   "execution_count": 10,
   "id": "408e1450",
   "metadata": {},
   "outputs": [
    {
     "name": "stdout",
     "output_type": "stream",
     "text": [
      "3\n",
      "84\n",
      "7\n",
      "-1\n"
     ]
    }
   ],
   "source": [
    "obj5 = Solution5()\n",
    "print(obj5.ceiling([1, 3, 5], 3))\n",
    "print(obj5.ceiling([12, 54, 84, 96], 55))\n",
    "print(obj5.ceiling([-5, -3, 7, 13, 17], -2))\n",
    "print(obj5.ceiling([41, 56, 67], 68))"
   ]
  },
  {
   "cell_type": "markdown",
   "id": "65105090",
   "metadata": {},
   "source": [
    "# 6. Floor of a Number in Sorted Array"
   ]
  },
  {
   "cell_type": "code",
   "execution_count": 11,
   "id": "997d8154",
   "metadata": {},
   "outputs": [],
   "source": [
    "class Solution6:\n",
    "    def floor(self, arr, target):\n",
    "        start = 0\n",
    "        end = len(arr) - 1\n",
    "        while start <= end:\n",
    "            if target < arr[0]:\n",
    "                return -1\n",
    "            mid = start + (end - start) // 2\n",
    "            if arr[mid] == target:\n",
    "                return arr[mid]\n",
    "            elif arr[mid] > target:    #Array is in ascending order.\n",
    "                end = mid - 1\n",
    "            else:\n",
    "                start = mid + 1\n",
    "        return arr[end]"
   ]
  },
  {
   "cell_type": "code",
   "execution_count": 12,
   "id": "e0d4dbf2",
   "metadata": {},
   "outputs": [
    {
     "name": "stdout",
     "output_type": "stream",
     "text": [
      "3\n",
      "54\n",
      "-3\n",
      "-1\n"
     ]
    }
   ],
   "source": [
    "obj6 = Solution6()\n",
    "print(obj6.floor([1, 3, 5], 3))\n",
    "print(obj6.floor([12, 54, 84, 96], 55))\n",
    "print(obj6.floor([-5, -3, 7, 13, 17], -2))\n",
    "print(obj6.floor([41, 56, 67], 40))"
   ]
  },
  {
   "cell_type": "markdown",
   "id": "14ced663",
   "metadata": {},
   "source": [
    "# 7. Find Smallest Letter Greater Then Target\n",
    "You are given an array of characters letters that is sorted in non-decreasing order, and a character target. There are at least two different characters in letters.\n",
    "\n",
    "Return the smallest character in letters that is lexicographically greater than target. If such a character does not exist, return the first character in letters.\n",
    "\n",
    " \n",
    "\n",
    "Example 1:\n",
    "\n",
    "Input: letters = [\"c\",\"f\",\"j\"], target = \"a\"\n",
    "Output: \"c\"\n",
    "Explanation: The smallest character that is lexicographically greater than 'a' in letters is 'c'.\n",
    "\n",
    "Example 2:\n",
    "\n",
    "Input: letters = [\"c\",\"f\",\"j\"], target = \"c\"\n",
    "Output: \"f\"\n",
    "Explanation: The smallest character that is lexicographically greater than 'c' in letters is 'f'.\n",
    "\n",
    "Example 3:\n",
    "\n",
    "Input: letters = [\"x\",\"x\",\"y\",\"y\"], target = \"z\"\n",
    "Output: \"x\"\n",
    "Explanation: There are no characters in letters that is lexicographically greater than 'z' so we return letters[0].\n",
    " \n",
    "\n",
    "Constraints:\n",
    "\n",
    "2 <= letters.length <= 104\n",
    "letters[i] is a lowercase English letter.\n",
    "letters is sorted in non-decreasing order.\n",
    "letters contains at least two different characters.\n",
    "target is a lowercase English letter."
   ]
  },
  {
   "cell_type": "code",
   "execution_count": 13,
   "id": "d10a3bf4",
   "metadata": {},
   "outputs": [],
   "source": [
    "class Solution7:\n",
    "    def nextGreatestLetter(self, letters, target):\n",
    "        start = 0\n",
    "        end = len(letters) - 1\n",
    "        while start <= end:\n",
    "            mid = start + (end - start) // 2\n",
    "            if letters[mid] > target:\n",
    "                end = mid - 1\n",
    "            else:\n",
    "                start = mid + 1\n",
    "        return letters[start % len(letters)]"
   ]
  },
  {
   "cell_type": "code",
   "execution_count": 14,
   "id": "eb22b0ce",
   "metadata": {},
   "outputs": [
    {
     "name": "stdout",
     "output_type": "stream",
     "text": [
      "c\n",
      "f\n",
      "y\n",
      "m\n"
     ]
    }
   ],
   "source": [
    "obj7 = Solution7()\n",
    "print(obj7.nextGreatestLetter([\"c\", \"f\", \"j\"], \"a\"))\n",
    "print(obj7.nextGreatestLetter([\"c\", \"f\", \"j\"], \"c\"))\n",
    "print(obj7.nextGreatestLetter([\"x\",\"x\",\"y\",\"y\"], \"x\"))\n",
    "print(obj7.nextGreatestLetter([\"a\", \"m\", \"q\"], \"a\"))"
   ]
  },
  {
   "cell_type": "markdown",
   "id": "2284ebc0",
   "metadata": {},
   "source": [
    "# 8. Find First and Last Position of Element in Sorted Array\n",
    "Given an array of integers nums sorted in non-decreasing order, find the starting and ending position of a given target value.\n",
    "\n",
    "If target is not found in the array, return [-1, -1].\n",
    "\n",
    "You must write an algorithm with O(log n) runtime complexity.\n",
    "\n",
    " \n",
    "\n",
    "Example 1:\n",
    "\n",
    "Input: nums = [5,7,7,8,8,10], target = 8\n",
    "Output: [3,4]\n",
    "\n",
    "Example 2:\n",
    "\n",
    "Input: nums = [5,7,7,8,8,10], target = 6\n",
    "Output: [-1,-1]\n",
    "\n",
    "Example 3:\n",
    "\n",
    "Input: nums = [], target = 0\n",
    "Output: [-1,-1]\n",
    " \n",
    "\n",
    "Constraints:\n",
    "\n",
    "0 <= nums.length <= 105\n",
    "-109 <= nums[i] <= 109\n",
    "nums is a non-decreasing array.\n",
    "-109 <= target <= 109"
   ]
  },
  {
   "cell_type": "code",
   "execution_count": 15,
   "id": "828a64c7",
   "metadata": {},
   "outputs": [],
   "source": [
    "class Solution8:\n",
    "    def binarySearch(self, nums, target, isFirstSearchIndex):\n",
    "        self.isFirstSearchIndex = isFirstSearchIndex\n",
    "        ans = -1\n",
    "        start = 0\n",
    "        end = len(nums) - 1\n",
    "        while start <= end:\n",
    "            mid = start + (end - start) // 2\n",
    "            if nums[mid] < target:\n",
    "                start = mid + 1\n",
    "            elif nums[mid] > target:\n",
    "                end = mid - 1\n",
    "            else:\n",
    "                ans = mid\n",
    "                if isFirstSearchIndex:\n",
    "                    end = mid - 1\n",
    "                else:\n",
    "                    start = mid + 1\n",
    "        return ans\n",
    "    def searchRange(self, nums, target):\n",
    "        ans = [-1, -1]\n",
    "        ans[0] = self.binarySearch(nums, target, True)\n",
    "        if ans[0] != -1:\n",
    "            ans[1] = self.binarySearch(nums, target, False)\n",
    "        return ans"
   ]
  },
  {
   "cell_type": "code",
   "execution_count": 16,
   "id": "9edb5cf0",
   "metadata": {},
   "outputs": [
    {
     "name": "stdout",
     "output_type": "stream",
     "text": [
      "[3, 4]\n",
      "[-1, -1]\n",
      "[-1, -1]\n",
      "[0, 3]\n"
     ]
    }
   ],
   "source": [
    "obj8 = Solution8()\n",
    "print(obj8.searchRange([5, 7, 7, 8, 8, 10], 8))\n",
    "print(obj8.searchRange([5,7,7,8,8,10], 6))\n",
    "print(obj8.searchRange([], 0))\n",
    "print(obj8.searchRange([1, 1, 1, 1], 1))"
   ]
  },
  {
   "cell_type": "code",
   "execution_count": null,
   "id": "7831b687",
   "metadata": {},
   "outputs": [],
   "source": []
  }
 ],
 "metadata": {
  "kernelspec": {
   "display_name": "Python 3 (ipykernel)",
   "language": "python",
   "name": "python3"
  },
  "language_info": {
   "codemirror_mode": {
    "name": "ipython",
    "version": 3
   },
   "file_extension": ".py",
   "mimetype": "text/x-python",
   "name": "python",
   "nbconvert_exporter": "python",
   "pygments_lexer": "ipython3",
   "version": "3.11.3"
  }
 },
 "nbformat": 4,
 "nbformat_minor": 5
}
