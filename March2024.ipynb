{
 "cells": [
  {
   "cell_type": "markdown",
   "id": "853bc863",
   "metadata": {},
   "source": [
    "## Valid Parenthesis\n",
    "Given a string s containing just the characters '(', ')', '{', '}', '[' and ']', determine if the input string is valid.\n",
    "\n",
    "An input string is valid if:\n",
    "\n",
    "Open brackets must be closed by the same type of brackets.\n",
    "Open brackets must be closed in the correct order.\n",
    "Every close bracket has a corresponding open bracket of the same type.\n",
    " \n",
    "\n",
    "Example 1:\n",
    "\n",
    "Input: s = \"()\"\n",
    "Output: true\n",
    "Example 2:\n",
    "\n",
    "Input: s = \"()[]{}\"\n",
    "Output: true\n",
    "Example 3:\n",
    "\n",
    "Input: s = \"(]\"\n",
    "Output: false\n",
    " \n",
    "\n",
    "Constraints:\n",
    "\n",
    "1 <= s.length <= 104\n",
    "s consists of parentheses only '()[]{}'."
   ]
  },
  {
   "cell_type": "code",
   "execution_count": 1,
   "id": "319a2c1b",
   "metadata": {},
   "outputs": [],
   "source": [
    "class Solution:\n",
    "    def isValid(self, s):\n",
    "        stack = []    #Create an empty stack to store opening brackets.\n",
    "        for c in s:\n",
    "            if c in '({[':    #If character is an opening bracket...\n",
    "                stack.append(c)    #then push it into the stack.\n",
    "            else:    #If character is a closing bracket...\n",
    "                if not stack or \\\n",
    "                (c == ')' and stack[-1] != '(') or \\\n",
    "                (c == '}' and stack[-1] != '{') or \\\n",
    "                (c == ']' and stack[-1] != '['):\n",
    "                    return False    #String is empty or is invalid.\n",
    "                stack.pop()    #pop the corresponding opening bracket from the stack.\n",
    "        return not stack    #Stack is empty=> All brackets matched correctly=> return True"
   ]
  },
  {
   "cell_type": "code",
   "execution_count": 2,
   "id": "53e2ffd4",
   "metadata": {},
   "outputs": [
    {
     "name": "stdout",
     "output_type": "stream",
     "text": [
      "True\n",
      "False\n",
      "False\n",
      "False\n",
      "False\n",
      "False\n",
      "True\n",
      "False\n",
      "True\n",
      "True\n"
     ]
    }
   ],
   "source": [
    "obj = Solution()\n",
    "print(obj.isValid('()'))\n",
    "print(obj.isValid('(('))\n",
    "print(obj.isValid(']]'))\n",
    "print(obj.isValid('(]'))\n",
    "print(obj.isValid('}{}'))\n",
    "print(obj.isValid('){'))\n",
    "print(obj.isValid('()[]{}'))\n",
    "print(obj.isValid('())[{]'))\n",
    "print(obj.isValid('({[]})'))\n",
    "print(obj.isValid('[(){}]'))"
   ]
  },
  {
   "cell_type": "markdown",
   "id": "58969a55",
   "metadata": {},
   "source": [
    "## Count Elements With Maximum Frequency\n",
    "You are given an array nums consisting of positive integers.\n",
    "\n",
    "Return the total frequencies of elements in nums such that those elements all have the maximum frequency.\n",
    "\n",
    "The frequency of an element is the number of occurrences of that element in the array.\n",
    "\n",
    " \n",
    "\n",
    "Example 1:\n",
    "\n",
    "Input: nums = [1,2,2,3,1,4]\n",
    "Output: 4\n",
    "Explanation: The elements 1 and 2 have a frequency of 2 which is the maximum frequency in the array.\n",
    "So the number of elements in the array with maximum frequency is 4.\n",
    "Example 2:\n",
    "\n",
    "Input: nums = [1,2,3,4,5]\n",
    "Output: 5\n",
    "Explanation: All elements of the array have a frequency of 1 which is the maximum.\n",
    "So the number of elements in the array with maximum frequency is 5.\n",
    " \n",
    "\n",
    "Constraints:\n",
    "\n",
    "1 <= nums.length <= 100\n",
    "1 <= nums[i] <= 100"
   ]
  },
  {
   "cell_type": "code",
   "execution_count": 3,
   "id": "2da78c8d",
   "metadata": {},
   "outputs": [],
   "source": [
    "from collections import Counter\n",
    "class Solution(object):\n",
    "    def maxFrequencyElements(self, nums):\n",
    "        freq_counter = Counter(nums)        \n",
    "        max_frequency = max(freq_counter.values())\n",
    "        max_freq_elements = [num for num, freq in freq_counter.items() if freq == max_frequency]\n",
    "        total_frequency = max_frequency * len(max_freq_elements)\n",
    "        return total_frequency"
   ]
  },
  {
   "cell_type": "code",
   "execution_count": 4,
   "id": "89622a54",
   "metadata": {},
   "outputs": [
    {
     "name": "stdout",
     "output_type": "stream",
     "text": [
      "4\n",
      "5\n",
      "3\n",
      "2\n",
      "2\n"
     ]
    }
   ],
   "source": [
    "obj = Solution()\n",
    "print(obj.maxFrequencyElements([1, 2, 2, 3, 1, 4]))\n",
    "print(obj.maxFrequencyElements([1, 2, 3, 4, 5]))\n",
    "print(obj.maxFrequencyElements([1, 2, 2, 2, 3]))\n",
    "print(obj.maxFrequencyElements([5, 6, 4, 3, 3, 1]))\n",
    "print(obj.maxFrequencyElements([5, 8, 8, 9]))"
   ]
  },
  {
   "cell_type": "markdown",
   "id": "84e9ea64",
   "metadata": {},
   "source": [
    "## Minimum Common Value\n",
    "Given two integer arrays nums1 and nums2, sorted in non-decreasing order, return the minimum integer common to both arrays. If there is no common integer amongst nums1 and nums2, return -1.\n",
    "\n",
    "Note that an integer is said to be common to nums1 and nums2 if both arrays have at least one occurrence of that integer.\n",
    "\n",
    " \n",
    "\n",
    "Example 1:\n",
    "\n",
    "Input: nums1 = [1,2,3], nums2 = [2,4]\n",
    "Output: 2\n",
    "Explanation: The smallest element common to both arrays is 2, so we return 2.\n",
    "Example 2:\n",
    "\n",
    "Input: nums1 = [1,2,3,6], nums2 = [2,3,4,5]\n",
    "Output: 2\n",
    "Explanation: There are two common elements in the array 2 and 3 out of which 2 is the smallest, so 2 is returned.\n",
    " \n",
    "\n",
    "Constraints:\n",
    "\n",
    "1 <= nums1.length, nums2.length <= 105\n",
    "1 <= nums1[i], nums2[j] <= 109\n",
    "Both nums1 and nums2 are sorted in non-decreasing order."
   ]
  },
  {
   "cell_type": "code",
   "execution_count": 5,
   "id": "88754d43",
   "metadata": {},
   "outputs": [],
   "source": [
    "class Solution(object):\n",
    "    def getCommon(self, nums1, nums2):\n",
    "        i = 0\n",
    "        j = 0\n",
    "        common = float('inf')\n",
    "        while i < len(nums1) and j < len(nums2):\n",
    "            if nums1[i] == nums2[j]:\n",
    "                common = nums1[i]\n",
    "                break\n",
    "            elif nums1[i] > nums2[j]:\n",
    "                j += 1\n",
    "            else:\n",
    "                i += 1\n",
    "        return common if common != float('inf') else -1"
   ]
  },
  {
   "cell_type": "code",
   "execution_count": 6,
   "id": "3487a3c7",
   "metadata": {},
   "outputs": [
    {
     "name": "stdout",
     "output_type": "stream",
     "text": [
      "2\n",
      "2\n",
      "-1\n",
      "34\n",
      "0\n"
     ]
    }
   ],
   "source": [
    "obj = Solution()\n",
    "print(obj.getCommon([1, 2, 3], [2, 4]))\n",
    "print(obj.getCommon([1, 2, 3, 6], [2, 3, 4, 5]))\n",
    "print(obj.getCommon([14, 59], [23, 64]))\n",
    "print(obj.getCommon([-23, 0, 34], [34, 49]))\n",
    "print(obj.getCommon([-1, -2, 0, 1, 2], [0, 1, 2]))"
   ]
  },
  {
   "cell_type": "code",
   "execution_count": null,
   "id": "eb0f5e88",
   "metadata": {},
   "outputs": [],
   "source": []
  }
 ],
 "metadata": {
  "kernelspec": {
   "display_name": "Python 3 (ipykernel)",
   "language": "python",
   "name": "python3"
  },
  "language_info": {
   "codemirror_mode": {
    "name": "ipython",
    "version": 3
   },
   "file_extension": ".py",
   "mimetype": "text/x-python",
   "name": "python",
   "nbconvert_exporter": "python",
   "pygments_lexer": "ipython3",
   "version": "3.11.3"
  }
 },
 "nbformat": 4,
 "nbformat_minor": 5
}
