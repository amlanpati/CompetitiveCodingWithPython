{
 "cells": [
  {
   "cell_type": "markdown",
   "id": "853bc863",
   "metadata": {},
   "source": [
    "## Valid Parenthesis\n",
    "Given a string s containing just the characters '(', ')', '{', '}', '[' and ']', determine if the input string is valid.\n",
    "\n",
    "An input string is valid if:\n",
    "\n",
    "Open brackets must be closed by the same type of brackets.\n",
    "Open brackets must be closed in the correct order.\n",
    "Every close bracket has a corresponding open bracket of the same type.\n",
    " \n",
    "\n",
    "Example 1:\n",
    "\n",
    "Input: s = \"()\"\n",
    "Output: true\n",
    "Example 2:\n",
    "\n",
    "Input: s = \"()[]{}\"\n",
    "Output: true\n",
    "Example 3:\n",
    "\n",
    "Input: s = \"(]\"\n",
    "Output: false\n",
    " \n",
    "\n",
    "Constraints:\n",
    "\n",
    "1 <= s.length <= 104\n",
    "s consists of parentheses only '()[]{}'."
   ]
  },
  {
   "cell_type": "code",
   "execution_count": 1,
   "id": "319a2c1b",
   "metadata": {},
   "outputs": [],
   "source": [
    "class Solution:\n",
    "    def isValid(self, s):\n",
    "        stack = []    #Create an empty stack to store opening brackets.\n",
    "        for c in s:\n",
    "            if c in '({[':    #If character is an opening bracket...\n",
    "                stack.append(c)    #then push it into the stack.\n",
    "            else:    #If character is a closing bracket...\n",
    "                if not stack or \\\n",
    "                (c == ')' and stack[-1] != '(') or \\\n",
    "                (c == '}' and stack[-1] != '{') or \\\n",
    "                (c == ']' and stack[-1] != '['):\n",
    "                    return False    #String is empty or is invalid.\n",
    "                stack.pop()    #pop the corresponding opening bracket from the stack.\n",
    "        return not stack    #Stack is empty=> All brackets matched correctly=> return True"
   ]
  },
  {
   "cell_type": "code",
   "execution_count": 2,
   "id": "53e2ffd4",
   "metadata": {},
   "outputs": [
    {
     "name": "stdout",
     "output_type": "stream",
     "text": [
      "True\n",
      "False\n",
      "False\n",
      "False\n",
      "False\n",
      "False\n",
      "True\n",
      "False\n",
      "True\n",
      "True\n"
     ]
    }
   ],
   "source": [
    "obj = Solution()\n",
    "print(obj.isValid('()'))\n",
    "print(obj.isValid('(('))\n",
    "print(obj.isValid(']]'))\n",
    "print(obj.isValid('(]'))\n",
    "print(obj.isValid('}{}'))\n",
    "print(obj.isValid('){'))\n",
    "print(obj.isValid('()[]{}'))\n",
    "print(obj.isValid('())[{]'))\n",
    "print(obj.isValid('({[]})'))\n",
    "print(obj.isValid('[(){}]'))"
   ]
  },
  {
   "cell_type": "code",
   "execution_count": null,
   "id": "d3a3f9cd",
   "metadata": {},
   "outputs": [],
   "source": []
  }
 ],
 "metadata": {
  "kernelspec": {
   "display_name": "Python 3 (ipykernel)",
   "language": "python",
   "name": "python3"
  },
  "language_info": {
   "codemirror_mode": {
    "name": "ipython",
    "version": 3
   },
   "file_extension": ".py",
   "mimetype": "text/x-python",
   "name": "python",
   "nbconvert_exporter": "python",
   "pygments_lexer": "ipython3",
   "version": "3.11.3"
  }
 },
 "nbformat": 4,
 "nbformat_minor": 5
}
